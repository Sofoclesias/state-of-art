{
 "cells": [
  {
   "cell_type": "code",
   "execution_count": 4,
   "metadata": {},
   "outputs": [],
   "source": [
    "from time import sleep\n",
    "import requests as rq\n",
    "from tqdm import tqdm\n",
    "import random\n",
    "import re\n",
    "from datetime import datetime as dt\n",
    "import sys\n",
    "sys.setrecursionlimit(100000)"
   ]
  },
  {
   "cell_type": "markdown",
   "metadata": {},
   "source": [
    "# 1. Conseguir IDs de todos los papers"
   ]
  },
  {
   "cell_type": "code",
   "execution_count": null,
   "metadata": {},
   "outputs": [],
   "source": [
    "fieldsOfStudy = [\n",
    "    'Computer Science',\n",
    "    'Medicine',\n",
    "    'Chemistry',\n",
    "    'Biology',\n",
    "    'Materials Science',\n",
    "    'Physics',\n",
    "    'Geology',\n",
    "    'Psychology',\n",
    "    'Art',\n",
    "    'History',\n",
    "    'Geography',\n",
    "    'Sociology',\n",
    "    'Business',\n",
    "    'Political Science',\n",
    "    'Economics',\n",
    "    'Philosophy',\n",
    "    'Mathematics',\n",
    "    'Engineering',\n",
    "    'Environmental Science',\n",
    "    'Agricultural and Food Sciences',\n",
    "    'Education',\n",
    "    'Law',\n",
    "    'Linguistics'\n",
    "]\n",
    "\n",
    "years = [\n",
    "    '-2010',\n",
    "    '2011-2016',\n",
    "    '2017-2021',\n",
    "    '2022-'\n",
    "]\n",
    "\n",
    "def connection_test():\n",
    "    try:\n",
    "        rq.get(\"https://www.google.com\", timeout=(5,15))\n",
    "        return True\n",
    "    except:\n",
    "        return False\n",
    "\n",
    "def request (url, delay=1, attempt=1, max_attempt=10, tol=60):\n",
    "    # Asegura continuación ante saturaciones de red.\n",
    "    try:\n",
    "        sleep(delay)\n",
    "        response = rq.get(url,timeout=(5,15))\n",
    "        if response.status_code == 200:\n",
    "            # Retorno de los resultados de la API.\n",
    "            with open('logs/delaylog.txt','a') as f:\n",
    "                f.write(f\"{delay},{attempt},{url}\\n\")\n",
    "                # TEMPORAL: Quiero analizar la saturación de requests al API en su rate limit de 1000 resultados.\n",
    "\n",
    "            return response.json()\n",
    "        elif response.status_code != 200 and attempt!=max_attempt:\n",
    "            # Principalmente maneja errores 429 y 504.\n",
    "            # Si yo supero el rate limit o el server no responde a tiempo, se aplica exponential backoff + reintento recursivo.\n",
    "            delay = min(2 ** attempt + random.uniform(0,1), 1024)\n",
    "            return request(url, delay, attempt=attempt+1, max_attempt=max_attempt)\n",
    "        else:\n",
    "            # Registro de error y devolución de bandera 'None'.\n",
    "            with open('logs/erroridslog.txt','a') as f:\n",
    "                f.write(f'ERROR {response.status_code} at attempt {attempt}: {url}\\n')\n",
    "            \n",
    "            return None\n",
    "        \n",
    "    # Detiene la función hasta que se haya reconexión.\n",
    "    except rq.exceptions.RequestException as e:\n",
    "        with open('connectionlog.txt','a') as f:\n",
    "            f.write(f'[{dt.now()} - {e}] Lost connection. Awaiting reconnection.')\n",
    "        \n",
    "        while not connection_test():\n",
    "            sleep(tol)\n",
    "\n",
    "        with open('connectionlog.txt','a') as f:\n",
    "            f.write(f'[{dt.now()}] Reconnected.')\n",
    "\n",
    "        return request(url,delay=delay,attempt=attempt,max_attempt=max_attempt,tol=tol)\n",
    "\n",
    "def fetchIDs(field,year,token=None):\n",
    "    url = f'https://api.semanticscholar.org/graph/v1/paper/search/bulk?query=*&fieldsOfStudy={field}&year={year}' + (f'&token={token}' if token!=None else '')\n",
    "    response = request(url,max_attempt=20)\n",
    "    \n",
    "    if response is not None:\n",
    "        if not token:\n",
    "            # Solo la primera iteración de un nuevo fetch retornará resultados.\n",
    "            print(f'field: {field}\\nyears: {year}\\ntotal results: {response['total']}\\nestimated amount of paginations: {response['total']//1000 + 1}\\nleast amount of processing hours: {(response['total']//1000 + 1)//3600 + 1}\\n')\n",
    "        \n",
    "        # Registro de IDs\n",
    "        with open('paperIds.txt','a') as f:\n",
    "            f.write('\\n'.join(re.findall(r\"\\{'paperId': '.+?', 'title': '.+?'\\}\",str(response['data']),re.DOTALL)) + '\\n')\n",
    "        \n",
    "        # Encontrar nuevo token de paginación, si hay.\n",
    "        next_token = response.get('token') \n",
    "        with open('logs/tokenlog.txt','a') as f:\n",
    "                f.write(str(next_token)+'\\n')\n",
    "                # TEMPORAL: Quiero ver el comportamiento de los tokens.\n",
    "\n",
    "        # Continuación recursiva.\n",
    "        if next_token:\n",
    "            fetchIDs(field,year,token=next_token)"
   ]
  },
  {
   "cell_type": "markdown",
   "metadata": {},
   "source": [
    "Considerando que en total son 225'848'910 artículos y actualmente trabajo con un rate limit de ~1000 resultados en requests/segundo, para una sola IP en secuencia demorará aproximadamente 2 días y medio en recuperar todos los IDs.\n",
    " * Ponderar distribución de solicitudes en otras máquinas o en máquinas virtuales.\n",
    " * Ojalá tuviera ya la licencia autorizada para la API, que me permitiría en principio descargar todo el dataset en el endpoint de baches. Ello simplificaría el paso 1 y 2 en solo unas cuantas solicitudes."
   ]
  },
  {
   "cell_type": "code",
   "execution_count": null,
   "metadata": {},
   "outputs": [],
   "source": [
    "with tqdm(total=len(fieldsOfStudy)*len(years)) as pbar:\n",
    "    for field in fieldsOfStudy:\n",
    "        for year in years:\n",
    "            fetchIDs(field,year)\n",
    "            pbar.update(1)"
   ]
  },
  {
   "cell_type": "markdown",
   "metadata": {},
   "source": [
    "# 2. Buscar metadata para cada ID"
   ]
  },
  {
   "cell_type": "markdown",
   "metadata": {},
   "source": [
    "# 3. Buscar PDFs"
   ]
  }
 ],
 "metadata": {
  "kernelspec": {
   "display_name": ".venv",
   "language": "python",
   "name": "python3"
  },
  "language_info": {
   "codemirror_mode": {
    "name": "ipython",
    "version": 3
   },
   "file_extension": ".py",
   "mimetype": "text/x-python",
   "name": "python",
   "nbconvert_exporter": "python",
   "pygments_lexer": "ipython3",
   "version": "3.13.2"
  }
 },
 "nbformat": 4,
 "nbformat_minor": 2
}
